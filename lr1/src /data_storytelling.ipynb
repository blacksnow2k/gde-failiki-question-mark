{
 "cells": [
  {
   "attachments": {},
   "cell_type": "markdown",
   "metadata": {},
   "source": [
    "# Лабораторная работа 1: История о данных"
   ]
  },
  {
   "attachments": {},
   "cell_type": "markdown",
   "metadata": {},
   "source": [
    "Обоснования для выбора набора данных: мне интересно про фильмы на самом деле и мне не так важно на чем учиться строить графики"
   ]
  },
  {
   "attachments": {},
   "cell_type": "markdown",
   "metadata": {},
   "source": [
    "[![Kaggle](https://img.shields.io/badge/Kaggle-035a7d?style=for-the-badge&logo=kaggle&logoColor=white)](https://www.kaggle.com/datasets/rajugc/imdb-top-250-movies-dataset)\n",
    "\n",
    "\n",
    "ссылка на изначальный датасет (кнопка)\n",
    "\n",
    "[![IMDB TOP 250](https://img.shields.io/badge/%D1%81%D1%81%D1%8B%D0%BB%D0%BA%D0%B0%20%D0%BD%D0%B0-%D0%B4%D0%B0%D1%82%D0%B0%D1%81%D0%B5%D1%82-blue?style=social&logo=kaggle)](https://www.kaggle.com/datasets/rajugc/imdb-top-250-movies-dataset)\n",
    "\n"
   ]
  },
  {
   "attachments": {},
   "cell_type": "markdown",
   "metadata": {},
   "source": [
    "![img](./kagge-link.png)"
   ]
  },
  {
   "cell_type": "code",
   "execution_count": null,
   "metadata": {},
   "outputs": [],
   "source": []
  },
  {
   "attachments": {},
   "cell_type": "markdown",
   "metadata": {},
   "source": [
    "## Используемые библиотеки"
   ]
  },
  {
   "cell_type": "code",
   "execution_count": 1,
   "metadata": {},
   "outputs": [
    {
     "name": "stdout",
     "output_type": "stream",
     "text": [
      "Версия pandas: 1.5.3\n",
      "Версия seaborn 0.12.2\n",
      "Версия matplotlib 3.6.2\n"
     ]
    }
   ],
   "source": [
    "import pandas as pd\n",
    "import seaborn as sns\n",
    "from matplotlib import __version__ as mpl_version\n",
    "import matplotlib.pyplot as plt\n",
    "\n",
    "print(f\"Версия pandas: {pd.__version__}\")\n",
    "print(f\"Версия seaborn {sns.__version__}\")\n",
    "print(f\"Версия matplotlib {mpl_version}\")"
   ]
  },
  {
   "attachments": {},
   "cell_type": "markdown",
   "metadata": {},
   "source": [
    "## Первичная обработка скачанного датасета"
   ]
  },
  {
   "cell_type": "code",
   "execution_count": 2,
   "metadata": {},
   "outputs": [
    {
     "data": {
      "text/html": [
       "<div>\n",
       "<style scoped>\n",
       "    .dataframe tbody tr th:only-of-type {\n",
       "        vertical-align: middle;\n",
       "    }\n",
       "\n",
       "    .dataframe tbody tr th {\n",
       "        vertical-align: top;\n",
       "    }\n",
       "\n",
       "    .dataframe thead th {\n",
       "        text-align: right;\n",
       "    }\n",
       "</style>\n",
       "<table border=\"1\" class=\"dataframe\">\n",
       "  <thead>\n",
       "    <tr style=\"text-align: right;\">\n",
       "      <th></th>\n",
       "      <th>rank</th>\n",
       "      <th>name</th>\n",
       "      <th>year</th>\n",
       "      <th>rating</th>\n",
       "      <th>genre</th>\n",
       "      <th>certificate</th>\n",
       "      <th>run_time</th>\n",
       "      <th>tagline</th>\n",
       "      <th>budget</th>\n",
       "      <th>box_office</th>\n",
       "      <th>casts</th>\n",
       "      <th>directors</th>\n",
       "      <th>writers</th>\n",
       "    </tr>\n",
       "  </thead>\n",
       "  <tbody>\n",
       "    <tr>\n",
       "      <th>0</th>\n",
       "      <td>1</td>\n",
       "      <td>The Shawshank Redemption</td>\n",
       "      <td>1994</td>\n",
       "      <td>9.3</td>\n",
       "      <td>Drama</td>\n",
       "      <td>R</td>\n",
       "      <td>2h 22m</td>\n",
       "      <td>Fear can hold you prisoner. Hope can set you f...</td>\n",
       "      <td>25000000</td>\n",
       "      <td>28884504</td>\n",
       "      <td>Tim Robbins,Morgan Freeman,Bob Gunton,William ...</td>\n",
       "      <td>Frank Darabont</td>\n",
       "      <td>Stephen King,Frank Darabont</td>\n",
       "    </tr>\n",
       "    <tr>\n",
       "      <th>1</th>\n",
       "      <td>2</td>\n",
       "      <td>The Godfather</td>\n",
       "      <td>1972</td>\n",
       "      <td>9.2</td>\n",
       "      <td>Crime,Drama</td>\n",
       "      <td>R</td>\n",
       "      <td>2h 55m</td>\n",
       "      <td>An offer you can't refuse.</td>\n",
       "      <td>6000000</td>\n",
       "      <td>250341816</td>\n",
       "      <td>Marlon Brando,Al Pacino,James Caan,Diane Keato...</td>\n",
       "      <td>Francis Ford Coppola</td>\n",
       "      <td>Mario Puzo,Francis Ford Coppola</td>\n",
       "    </tr>\n",
       "    <tr>\n",
       "      <th>2</th>\n",
       "      <td>3</td>\n",
       "      <td>The Dark Knight</td>\n",
       "      <td>2008</td>\n",
       "      <td>9.0</td>\n",
       "      <td>Action,Crime,Drama</td>\n",
       "      <td>PG-13</td>\n",
       "      <td>2h 32m</td>\n",
       "      <td>Why So Serious?</td>\n",
       "      <td>185000000</td>\n",
       "      <td>1006234167</td>\n",
       "      <td>Christian Bale,Heath Ledger,Aaron Eckhart,Mich...</td>\n",
       "      <td>Christopher Nolan</td>\n",
       "      <td>Jonathan Nolan,Christopher Nolan,David S. Goyer</td>\n",
       "    </tr>\n",
       "    <tr>\n",
       "      <th>3</th>\n",
       "      <td>4</td>\n",
       "      <td>The Godfather Part II</td>\n",
       "      <td>1974</td>\n",
       "      <td>9.0</td>\n",
       "      <td>Crime,Drama</td>\n",
       "      <td>R</td>\n",
       "      <td>3h 22m</td>\n",
       "      <td>All the power on earth can't change destiny.</td>\n",
       "      <td>13000000</td>\n",
       "      <td>47961919</td>\n",
       "      <td>Al Pacino,Robert De Niro,Robert Duvall,Diane K...</td>\n",
       "      <td>Francis Ford Coppola</td>\n",
       "      <td>Francis Ford Coppola,Mario Puzo</td>\n",
       "    </tr>\n",
       "    <tr>\n",
       "      <th>4</th>\n",
       "      <td>5</td>\n",
       "      <td>12 Angry Men</td>\n",
       "      <td>1957</td>\n",
       "      <td>9.0</td>\n",
       "      <td>Crime,Drama</td>\n",
       "      <td>Approved</td>\n",
       "      <td>1h 36m</td>\n",
       "      <td>Life Is In Their Hands -- Death Is On Their Mi...</td>\n",
       "      <td>350000</td>\n",
       "      <td>955</td>\n",
       "      <td>Henry Fonda,Lee J. Cobb,Martin Balsam,John Fie...</td>\n",
       "      <td>Sidney Lumet</td>\n",
       "      <td>Reginald Rose</td>\n",
       "    </tr>\n",
       "  </tbody>\n",
       "</table>\n",
       "</div>"
      ],
      "text/plain": [
       "   rank                      name  year  rating               genre  \\\n",
       "0     1  The Shawshank Redemption  1994     9.3               Drama   \n",
       "1     2             The Godfather  1972     9.2         Crime,Drama   \n",
       "2     3           The Dark Knight  2008     9.0  Action,Crime,Drama   \n",
       "3     4     The Godfather Part II  1974     9.0         Crime,Drama   \n",
       "4     5              12 Angry Men  1957     9.0         Crime,Drama   \n",
       "\n",
       "  certificate run_time                                            tagline  \\\n",
       "0           R   2h 22m  Fear can hold you prisoner. Hope can set you f...   \n",
       "1           R   2h 55m                         An offer you can't refuse.   \n",
       "2       PG-13   2h 32m                                    Why So Serious?   \n",
       "3           R   3h 22m       All the power on earth can't change destiny.   \n",
       "4    Approved   1h 36m  Life Is In Their Hands -- Death Is On Their Mi...   \n",
       "\n",
       "      budget  box_office                                              casts  \\\n",
       "0   25000000    28884504  Tim Robbins,Morgan Freeman,Bob Gunton,William ...   \n",
       "1    6000000   250341816  Marlon Brando,Al Pacino,James Caan,Diane Keato...   \n",
       "2  185000000  1006234167  Christian Bale,Heath Ledger,Aaron Eckhart,Mich...   \n",
       "3   13000000    47961919  Al Pacino,Robert De Niro,Robert Duvall,Diane K...   \n",
       "4     350000         955  Henry Fonda,Lee J. Cobb,Martin Balsam,John Fie...   \n",
       "\n",
       "              directors                                          writers  \n",
       "0        Frank Darabont                      Stephen King,Frank Darabont  \n",
       "1  Francis Ford Coppola                  Mario Puzo,Francis Ford Coppola  \n",
       "2     Christopher Nolan  Jonathan Nolan,Christopher Nolan,David S. Goyer  \n",
       "3  Francis Ford Coppola                  Francis Ford Coppola,Mario Puzo  \n",
       "4          Sidney Lumet                                    Reginald Rose  "
      ]
     },
     "execution_count": 2,
     "metadata": {},
     "output_type": "execute_result"
    }
   ],
   "source": [
    "df = pd.read_csv('data/IMDB Top 250 Movies.csv')\n",
    "\n",
    "df.head()"
   ]
  },
  {
   "attachments": {},
   "cell_type": "markdown",
   "metadata": {},
   "source": [
    "# Поля датасета\n",
    "\n",
    "- Rank - Ранг фильма (из топ 250 по IMDB) \n",
    "- Name - Название фильма \n",
    "- Year - Год выпуска фильма \n",
    "- Rating - Рейтинг фильма (от 0 до 10)\n",
    "- genre - Жанр фильма\n",
    "- certificate - Рейтинг фильма (по MPAA) \n",
    "- run_time - Продолжительность фильма\n",
    "- tagline - Слоган\n",
    "- budget - Бюджет фильма (в долларах США)\n",
    "- box_office - Сборы фильма (по всему миру)\n",
    "- directors - Режиссер(-ы) фильма\n",
    "- writers - Автор(-ы) сценария"
   ]
  },
  {
   "attachments": {},
   "cell_type": "markdown",
   "metadata": {},
   "source": [
    "Проверка датасета на пустые значения"
   ]
  },
  {
   "cell_type": "code",
   "execution_count": 3,
   "metadata": {},
   "outputs": [
    {
     "data": {
      "text/plain": [
       "rank           0\n",
       "name           0\n",
       "year           0\n",
       "rating         0\n",
       "genre          0\n",
       "certificate    0\n",
       "run_time       0\n",
       "tagline        0\n",
       "budget         0\n",
       "box_office     0\n",
       "casts          0\n",
       "directors      0\n",
       "writers        0\n",
       "dtype: int64"
      ]
     },
     "execution_count": 3,
     "metadata": {},
     "output_type": "execute_result"
    }
   ],
   "source": [
    "df.isnull().sum()"
   ]
  },
  {
   "cell_type": "code",
   "execution_count": 3,
   "metadata": {},
   "outputs": [],
   "source": [
    "df_no_na = df.dropna()"
   ]
  },
  {
   "cell_type": "code",
   "execution_count": 4,
   "metadata": {},
   "outputs": [
    {
     "data": {
      "text/plain": [
       "rank           250\n",
       "name           250\n",
       "year           250\n",
       "rating         250\n",
       "genre          250\n",
       "certificate    250\n",
       "run_time       250\n",
       "tagline        250\n",
       "budget         250\n",
       "box_office     250\n",
       "casts          250\n",
       "directors      250\n",
       "writers        250\n",
       "dtype: int64"
      ]
     },
     "execution_count": 4,
     "metadata": {},
     "output_type": "execute_result"
    }
   ],
   "source": [
    "df_no_na.count()"
   ]
  },
  {
   "attachments": {},
   "cell_type": "markdown",
   "metadata": {},
   "source": [
    "Казалось, что все в этом датасете хорошо,но на самом деле..."
   ]
  },
  {
   "cell_type": "code",
   "execution_count": 5,
   "metadata": {},
   "outputs": [
    {
     "data": {
      "text/plain": [
       "rank             int64\n",
       "name            object\n",
       "year             int64\n",
       "rating         float64\n",
       "genre           object\n",
       "certificate     object\n",
       "run_time        object\n",
       "tagline         object\n",
       "budget          object\n",
       "box_office      object\n",
       "casts           object\n",
       "directors       object\n",
       "writers         object\n",
       "dtype: object"
      ]
     },
     "execution_count": 5,
     "metadata": {},
     "output_type": "execute_result"
    }
   ],
   "source": [
    "df.dtypes"
   ]
  },
  {
   "attachments": {},
   "cell_type": "markdown",
   "metadata": {},
   "source": [
    "Переведем продолжительность фильма из предоставленного формата в сумму минут для удобства последующего анализа и построения графиков"
   ]
  },
  {
   "cell_type": "code",
   "execution_count": 6,
   "metadata": {},
   "outputs": [
    {
     "data": {
      "text/plain": [
       "0    142.0\n",
       "1    175.0\n",
       "2    152.0\n",
       "3    202.0\n",
       "4     96.0\n",
       "Name: run_time_m, dtype: float64"
      ]
     },
     "execution_count": 6,
     "metadata": {},
     "output_type": "execute_result"
    }
   ],
   "source": [
    "df_no_na['run_time_m'] = df_no_na['run_time'].str.extract('(\\d+)h', expand=False).astype(float)*60 + df_no_na['run_time'].str.extract('(\\d+)m', expand=False).astype(float)\n",
    "\n",
    "df_no_na['run_time_m'].head()"
   ]
  },
  {
   "attachments": {},
   "cell_type": "markdown",
   "metadata": {},
   "source": [
    "Новый столбец ```df_no_na[\"run_time_m\"]``` содержит продолжительность фильма (в минутах)"
   ]
  },
  {
   "attachments": {},
   "cell_type": "markdown",
   "metadata": {},
   "source": [
    "Часть значений в колонках 'budget' и 'box_office' распознаются неправильно. Часть значений содержит строку Not Available"
   ]
  },
  {
   "cell_type": "code",
   "execution_count": 7,
   "metadata": {},
   "outputs": [
    {
     "name": "stdout",
     "output_type": "stream",
     "text": [
      "Для 39 фильмов не известен бюджет\n"
     ]
    }
   ],
   "source": [
    "na_field_count = 0\n",
    "\n",
    "for line in df_no_na['budget']:\n",
    "    tmp = line\n",
    "    if tmp[0]=='$':\n",
    "        tmp = tmp[1:]\n",
    "    if tmp=='Not Available':\n",
    "        na_field_count+=1\n",
    "    # print(f\"budget is {tmp} \")\n",
    "\n",
    "\n",
    "print(f\"Для {na_field_count} фильмов не известен бюджет\")"
   ]
  },
  {
   "cell_type": "code",
   "execution_count": 8,
   "metadata": {},
   "outputs": [
    {
     "name": "stdout",
     "output_type": "stream",
     "text": [
      "Для 30 фильмов не известны сборы\n"
     ]
    }
   ],
   "source": [
    "na_field_count = 0\n",
    "\n",
    "for line in df_no_na['box_office']:\n",
    "    tmp = line\n",
    "    if tmp[0]=='$':\n",
    "        tmp = tmp[1:]\n",
    "    if tmp=='Not Available':\n",
    "        na_field_count+=1\n",
    "    # print(f\"budget is {tmp} \")\n",
    "\n",
    "\n",
    "print(f\"Для {na_field_count} фильмов не известны сборы\")"
   ]
  },
  {
   "cell_type": "code",
   "execution_count": 9,
   "metadata": {},
   "outputs": [
    {
     "name": "stdout",
     "output_type": "stream",
     "text": [
      "Для фильма \"Harakiri не известны бюджет и кассовые сборы\"\n",
      "Для фильма \"Spider-Man: Into the Spider-Verse не известны бюджет и кассовые сборы\"\n",
      "Для фильма \"Good Will Hunting не известны бюджет и кассовые сборы\"\n",
      "Для фильма \"Your Name. не известны бюджет и кассовые сборы\"\n",
      "Для фильма \"High and Low не известны бюджет и кассовые сборы\"\n",
      "Для фильма \"Capernaum не известны бюджет и кассовые сборы\"\n",
      "Для фильма \"Come and See не известны бюджет и кассовые сборы\"\n",
      "Для фильма \"The Hunt не известны бюджет и кассовые сборы\"\n",
      "Для фильма \"Hamilton не известны бюджет и кассовые сборы\"\n",
      "Для фильма \"Dangal не известны бюджет и кассовые сборы\"\n",
      "Для фильма \"The Secret in Their Eyes не известны бюджет и кассовые сборы\"\n",
      "Для фильма \"My Neighbor Totoro не известны бюджет и кассовые сборы\"\n",
      "Для фильма \"Catch Me If You Can не известны бюджет и кассовые сборы\"\n",
      "Для фильма \"Children of Heaven не известны бюджет и кассовые сборы\"\n",
      "Для фильма \"Klaus не известны бюджет и кассовые сборы\"\n",
      "Для фильма \"Gone Girl не известны бюджет и кассовые сборы\"\n",
      "Для фильма \"In the Name of the Father не известны бюджет и кассовые сборы\"\n",
      "Для фильма \"Sherlock Jr. не известны бюджет и кассовые сборы\"\n",
      "Для фильма \"Wild Tales не известны бюджет и кассовые сборы\"\n",
      "Для фильма \"Tokyo Story не известны бюджет и кассовые сборы\"\n",
      "Для фильма \"The Passion of Joan of Arc не известны бюджет и кассовые сборы\"\n",
      "Для фильма \"Before Sunset не известны бюджет и кассовые сборы\"\n",
      "Для фильма \"To Be or Not to Be не известны бюджет и кассовые сборы\"\n",
      "Для фильма \"La haine не известны бюджет и кассовые сборы\"\n",
      "Для фильма \"Hachi: A Dog's Tale не известны бюджет и кассовые сборы\"\n",
      "Для фильма \"Jai Bhim не известны бюджет и кассовые сборы\"\n",
      "Для фильма \"My Father and My Son не известны бюджет и кассовые сборы\"\n",
      "Для фильма \"The Handmaiden не известны бюджет и кассовые сборы\"\n",
      "Для фильма \"Persona не известны бюджет и кассовые сборы\"\n",
      "Для фильма \"Aladdin не известны бюджет и кассовые сборы\"\n",
      "30\n"
     ]
    }
   ],
   "source": [
    "na_field_count = 0\n",
    "\n",
    "for line in df_no_na.values:\n",
    "    budget_navail = line[8] == 'Not Available'\n",
    "    box_office_navail = (line[9] == 'Not Available')\n",
    "    if budget_navail and box_office_navail:\n",
    "        na_field_count +=1\n",
    "        print(f'Для фильма \"{line[1]} не известны бюджет и кассовые сборы\"')\n",
    "\n",
    "print(na_field_count)\n"
   ]
  },
  {
   "cell_type": "code",
   "execution_count": 10,
   "metadata": {},
   "outputs": [
    {
     "data": {
      "text/plain": [
       "rank             int64\n",
       "name            object\n",
       "year             int64\n",
       "rating         float64\n",
       "genre           object\n",
       "certificate     object\n",
       "run_time        object\n",
       "tagline         object\n",
       "budget          object\n",
       "box_office      object\n",
       "casts           object\n",
       "directors       object\n",
       "writers         object\n",
       "run_time_m     float64\n",
       "dtype: object"
      ]
     },
     "execution_count": 10,
     "metadata": {},
     "output_type": "execute_result"
    }
   ],
   "source": [
    "df_no_na.dtypes"
   ]
  },
  {
   "cell_type": "code",
   "execution_count": 13,
   "metadata": {},
   "outputs": [
    {
     "data": {
      "text/plain": [
       "Int64Index([ 44,  65,  80,  81,  86,  87,  92,  93, 107, 124, 162, 171, 172,\n",
       "            174, 179, 183, 188, 194, 195, 206, 207, 220, 227, 228, 231, 233,\n",
       "            234, 238, 242, 247],\n",
       "           dtype='int64')"
      ]
     },
     "execution_count": 13,
     "metadata": {},
     "output_type": "execute_result"
    }
   ],
   "source": [
    "df_no_na[df_no_na['box_office']=='Not Available'].index"
   ]
  },
  {
   "attachments": {},
   "cell_type": "markdown",
   "metadata": {},
   "source": [
    "Удаление всех строк без известных сборов"
   ]
  },
  {
   "cell_type": "code",
   "execution_count": 14,
   "metadata": {},
   "outputs": [
    {
     "data": {
      "text/plain": [
       "rank           220\n",
       "name           220\n",
       "year           220\n",
       "rating         220\n",
       "genre          220\n",
       "certificate    220\n",
       "run_time       220\n",
       "tagline        220\n",
       "budget         220\n",
       "box_office     220\n",
       "casts          220\n",
       "directors      220\n",
       "writers        220\n",
       "run_time_m     214\n",
       "dtype: int64"
      ]
     },
     "execution_count": 14,
     "metadata": {},
     "output_type": "execute_result"
    }
   ],
   "source": [
    "df_no_na = df_no_na.drop(index=df_no_na[df_no_na['box_office']=='Not Available'].index).count()"
   ]
  },
  {
   "attachments": {},
   "cell_type": "markdown",
   "metadata": {},
   "source": [
    "Удаление всех строк без известного бюджета"
   ]
  },
  {
   "cell_type": "code",
   "execution_count": 21,
   "metadata": {},
   "outputs": [],
   "source": [
    "df_no_na = df_no_na.drop(index=df_no_na[df_no_na['budget']=='Not Available'].index).count()"
   ]
  },
  {
   "cell_type": "code",
   "execution_count": 22,
   "metadata": {},
   "outputs": [],
   "source": [
    "df_no_na['box_office_usd'] = df_no_na['box_office'].astype(float)"
   ]
  },
  {
   "cell_type": "code",
   "execution_count": 28,
   "metadata": {},
   "outputs": [
    {
     "name": "stdout",
     "output_type": "stream",
     "text": [
      "211.0\n",
      "211.0\n",
      "211.0\n",
      "211.0\n",
      "211.0\n",
      "211.0\n",
      "211.0\n",
      "211.0\n",
      "211.0\n",
      "211.0\n",
      "211.0\n",
      "211.0\n",
      "211.0\n",
      "205.0\n",
      "211.0\n"
     ]
    }
   ],
   "source": [
    "for val in df_no_na:\n",
    "    print(val)"
   ]
  },
  {
   "cell_type": "code",
   "execution_count": 29,
   "metadata": {},
   "outputs": [
    {
     "data": {
      "text/plain": [
       "rank             int64\n",
       "name            object\n",
       "year             int64\n",
       "rating         float64\n",
       "genre           object\n",
       "certificate     object\n",
       "run_time        object\n",
       "tagline         object\n",
       "budget          object\n",
       "box_office      object\n",
       "casts           object\n",
       "directors       object\n",
       "writers         object\n",
       "dtype: object"
      ]
     },
     "execution_count": 29,
     "metadata": {},
     "output_type": "execute_result"
    }
   ],
   "source": [
    "df_no_na.dtypes"
   ]
  },
  {
   "cell_type": "code",
   "execution_count": 78,
   "metadata": {},
   "outputs": [
    {
     "data": {
      "text/plain": [
       "<Axes: xlabel='new_runtime-', ylabel='rating'>"
      ]
     },
     "execution_count": 78,
     "metadata": {},
     "output_type": "execute_result"
    },
    {
     "data": {
      "image/png": "[encoded data removed]",
      "text/plain": [
       "<Figure size 640x480 with 1 Axes>"
      ]
     },
     "metadata": {},
     "output_type": "display_data"
    }
   ],
   "source": [
    "df.plot.scatter(x='new_runtime-', y=\"rating\")"
   ]
  },
  {
   "cell_type": "code",
   "execution_count": 65,
   "metadata": {},
   "outputs": [
    {
     "name": "stderr",
     "output_type": "stream",
     "text": [
      "/var/folders/g8/xtt465_57r53fy239yttrrrm0000gn/T/ipykernel_79924/2319445974.py:1: FutureWarning: The default value of numeric_only in DataFrame.corr is deprecated. In a future version, it will default to False. Select only valid columns or specify the value of numeric_only to silence this warning.\n",
      "  sns.heatmap(df.corr(), annot=True, fmt='.2f')\n"
     ]
    },
    {
     "data": {
      "text/plain": [
       "<Axes: >"
      ]
     },
     "execution_count": 65,
     "metadata": {},
     "output_type": "execute_result"
    },
    {
     "data": {
      "image/png": "[encoded data removed]",
      "text/plain": [
       "<Figure size 640x480 with 2 Axes>"
      ]
     },
     "metadata": {},
     "output_type": "display_data"
    }
   ],
   "source": [
    "sns.heatmap(df.corr(), annot=True, fmt='.2f')"
   ]
  },
  {
   "cell_type": "code",
   "execution_count": 38,
   "metadata": {},
   "outputs": [
    {
     "data": {
      "text/plain": [
       "<Axes: xlabel='rating', ylabel='certificate'>"
      ]
     },
     "execution_count": 38,
     "metadata": {},
     "output_type": "execute_result"
    },
    {
     "data": {
      "image/png": "[encoded data removed]",
      "text/plain": [
       "<Figure size 640x480 with 1 Axes>"
      ]
     },
     "metadata": {},
     "output_type": "display_data"
    }
   ],
   "source": [
    "sns.boxplot( x=df[\"rating\"], y=df[\"certificate\"])"
   ]
  },
  {
   "cell_type": "code",
   "execution_count": 39,
   "metadata": {},
   "outputs": [
    {
     "name": "stderr",
     "output_type": "stream",
     "text": [
      "/var/folders/g8/xtt465_57r53fy239yttrrrm0000gn/T/ipykernel_79924/3710418572.py:1: UserWarning: \n",
      "\n",
      "`distplot` is a deprecated function and will be removed in seaborn v0.14.0.\n",
      "\n",
      "Please adapt your code to use either `displot` (a figure-level function with\n",
      "similar flexibility) or `histplot` (an axes-level function for histograms).\n",
      "\n",
      "For a guide to updating your code to use the new functions, please see\n",
      "https://gist.github.com/mwaskom/de44147ed2974457ad6372750bbe5751\n",
      "\n",
      "  sns.distplot( a=df[\"rating\"], hist=True, kde=False, rug=False )\n"
     ]
    },
    {
     "data": {
      "text/plain": [
       "<Axes: xlabel='rating'>"
      ]
     },
     "execution_count": 39,
     "metadata": {},
     "output_type": "execute_result"
    },
    {
     "data": {
      "image/png": "[encoded data removed]",
      "text/plain": [
       "<Figure size 640x480 with 1 Axes>"
      ]
     },
     "metadata": {},
     "output_type": "display_data"
    }
   ],
   "source": [
    "sns.distplot( a=df[\"rating\"], hist=True, kde=False, rug=False )"
   ]
  },
  {
   "cell_type": "code",
   "execution_count": 42,
   "metadata": {},
   "outputs": [
    {
     "data": {
      "text/plain": [
       "0                           Drama\n",
       "1                     Crime,Drama\n",
       "2              Action,Crime,Drama\n",
       "3                     Crime,Drama\n",
       "4                     Crime,Drama\n",
       "                  ...            \n",
       "245                         Drama\n",
       "246     Adventure,Biography,Drama\n",
       "247    Animation,Adventure,Comedy\n",
       "248       Biography,Drama,History\n",
       "249       Adventure,Drama,Western\n",
       "Name: genre, Length: 250, dtype: object"
      ]
     },
     "execution_count": 42,
     "metadata": {},
     "output_type": "execute_result"
    }
   ],
   "source": [
    "df['genre']"
   ]
  },
  {
   "cell_type": "code",
   "execution_count": 45,
   "metadata": {},
   "outputs": [
    {
     "data": {
      "text/plain": [
       "<Axes: xlabel='year', ylabel='rating'>"
      ]
     },
     "execution_count": 45,
     "metadata": {},
     "output_type": "execute_result"
    },
    {
     "data": {
      "image/png": "[encoded data removed]",
      "text/plain": [
       "<Figure size 640x480 with 1 Axes>"
      ]
     },
     "metadata": {},
     "output_type": "display_data"
    }
   ],
   "source": [
    "df.plot.scatter(x='year',\n",
    "                      y='rating',\n",
    "                       c='DarkBlue')"
   ]
  },
  {
   "cell_type": "code",
   "execution_count": 60,
   "metadata": {},
   "outputs": [
    {
     "data": {
      "text/plain": [
       "<Axes: xlabel='rating', ylabel='year'>"
      ]
     },
     "execution_count": 60,
     "metadata": {},
     "output_type": "execute_result"
    },
    {
     "data": {
      "image/png": "[encoded data removed]",
      "text/plain": [
       "<Figure size 640x480 with 1 Axes>"
      ]
     },
     "metadata": {},
     "output_type": "display_data"
    }
   ],
   "source": [
    "sns.violinplot(x=df[\"rating\"], y=df[\"year\"])"
   ]
  },
  {
   "cell_type": "code",
   "execution_count": null,
   "metadata": {},
   "outputs": [],
   "source": []
  }
 ],
 "metadata": {
  "kernelspec": {
   "display_name": "Python 3",
   "language": "python",
   "name": "python3"
  },
  "language_info": {
   "codemirror_mode": {
    "name": "ipython",
    "version": 3
   },
   "file_extension": ".py",
   "mimetype": "text/x-python",
   "name": "python",
   "nbconvert_exporter": "python",
   "pygments_lexer": "ipython3",
   "version": "3.10.9"
  },
  "orig_nbformat": 4,
  "vscode": {
   "interpreter": {
    "hash": "aee8b7b246df8f9039afb4144a1f6fd8d2ca17a180786b69acc140d282b71a49"
   }
  }
 },
 "nbformat": 4,
 "nbformat_minor": 2
}
