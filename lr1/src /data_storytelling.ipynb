{
 "cells": [
  {
   "attachments": {},
   "cell_type": "markdown",
   "metadata": {},
   "source": [
    "# Лабораторная работа 1: История о данных"
   ]
  },
  {
   "attachments": {},
   "cell_type": "markdown",
   "metadata": {},
   "source": [
    "Обоснования для выбора набора данных: мне интересно про фильмы на самом деле и мне не так важно на чем учиться строить графики"
   ]
  },
  {
   "attachments": {},
   "cell_type": "markdown",
   "metadata": {},
   "source": [
    "[![Kaggle](https://img.shields.io/badge/Kaggle-035a7d?style=for-the-badge&logo=kaggle&logoColor=white)](https://www.kaggle.com/datasets/rajugc/imdb-top-250-movies-dataset)\n",
    "\n",
    "\n",
    "ссылка на изначальный датасет (кнопка)\n",
    "\n",
    "[![IMDB TOP 250](https://img.shields.io/badge/%D1%81%D1%81%D1%8B%D0%BB%D0%BA%D0%B0%20%D0%BD%D0%B0-%D0%B4%D0%B0%D1%82%D0%B0%D1%81%D0%B5%D1%82-blue?style=social&logo=kaggle)](https://www.kaggle.com/datasets/rajugc/imdb-top-250-movies-dataset)\n",
    "\n"
   ]
  },
  {
   "attachments": {},
   "cell_type": "markdown",
   "metadata": {},
   "source": [
    "![img](../../qr-codes/kaggle-link-lab-1.png)"
   ]
  },
  {
   "attachments": {},
   "cell_type": "markdown",
   "metadata": {},
   "source": [
    "## Используемые библиотеки"
   ]
  },
  {
   "attachments": {},
   "cell_type": "markdown",
   "metadata": {},
   "source": [
    "В процессе выполнения лабораторной работы были использованы библиотеки\n",
    "\n",
    "- pandas версии 1.5.3\n",
    "- seaborn версии 0.12.2\n",
    "- matplotlib 3.6.2"
   ]
  },
  {
   "cell_type": "code",
   "execution_count": null,
   "metadata": {},
   "outputs": [],
   "source": [
    "import pandas as pd\n",
    "import matplotlib.pyplot as plt\n",
    "import seaborn as sns\n",
    "import plotly as px\n",
    "\n",
    "from numpy import __version__ as np_version\n",
    "from pandas import __version__ as pd_version\n",
    "from seaborn import __version__ as sns_version\n",
    "from matplotlib import __version__ as mpl_version\n",
    "from plotly import __version__ as px_version\n",
    "\n",
    "print(f\"Версия plotly: {px_version}\")\n",
    "print(f\"Версия numpy: {np_version}\")\n",
    "print(f\"Версия pandas: {pd_version}\")\n",
    "print(f\"Версия seaborn {sns_version}\")\n",
    "print(f\"Версия matplotlib {mpl_version}\")"
   ]
  },
  {
   "attachments": {},
   "cell_type": "markdown",
   "metadata": {},
   "source": [
    "## Первичная обработка скачанного датасета"
   ]
  },
  {
   "cell_type": "code",
   "execution_count": null,
   "metadata": {},
   "outputs": [],
   "source": [
    "imdb_top_250_df = pd.read_csv('data/IMDB Top 250 Movies.csv')\n",
    "\n",
    "imdb_top_250_df.head()"
   ]
  },
  {
   "attachments": {},
   "cell_type": "markdown",
   "metadata": {},
   "source": [
    "# Поля датасета\n",
    "\n",
    "- Rank - Ранг фильма (из топ 250 по IMDB) \n",
    "- Name - Название фильма \n",
    "- Year - Год выпуска фильма \n",
    "- Rating - Рейтинг фильма (от 0 до 10)\n",
    "- genre - Жанр фильма\n",
    "- certificate - Рейтинг фильма (по MPAA) \n",
    "- run_time - Продолжительность фильма\n",
    "- tagline - Слоган\n",
    "- budget - Бюджет фильма (в долларах США)\n",
    "- box_office - Сборы фильма (по всему миру)\n",
    "- directors - Режиссер(-ы) фильма\n",
    "- writers - Автор(-ы) сценария"
   ]
  },
  {
   "attachments": {},
   "cell_type": "markdown",
   "metadata": {},
   "source": [
    "Проверка датасета на пустые значения"
   ]
  },
  {
   "cell_type": "code",
   "execution_count": null,
   "metadata": {},
   "outputs": [],
   "source": [
    "imdb_top_250_df.isnull().sum()"
   ]
  },
  {
   "attachments": {},
   "cell_type": "markdown",
   "metadata": {},
   "source": [
    "Удаление пустых значений через ```df.dropna()``` и вывод количества строк в результирующем наборе данных"
   ]
  },
  {
   "cell_type": "code",
   "execution_count": null,
   "metadata": {},
   "outputs": [],
   "source": [
    "imdb_top_250_df = imdb_top_250_df.dropna()\n",
    "imdb_top_250_df.count()"
   ]
  },
  {
   "attachments": {},
   "cell_type": "markdown",
   "metadata": {},
   "source": [
    "Казалось, что все в этом датасете хорошо,но на самом деле..."
   ]
  },
  {
   "cell_type": "code",
   "execution_count": null,
   "metadata": {},
   "outputs": [],
   "source": [
    "imdb_top_250_df.dtypes"
   ]
  },
  {
   "attachments": {},
   "cell_type": "markdown",
   "metadata": {},
   "source": [
    "Переведем продолжительность фильма из предоставленного формата в сумму минут для удобства последующего анализа и построения графиков"
   ]
  },
  {
   "cell_type": "code",
   "execution_count": null,
   "metadata": {},
   "outputs": [],
   "source": [
    "imdb_top_250_df['run_time_m'] = imdb_top_250_df['run_time'].str.extract('(\\d+)h', expand=False).astype(float)*60 + imdb_top_250_df['run_time'].str.extract('(\\d+)m', expand=False).astype(float)\n",
    "\n",
    "imdb_top_250_df['run_time_m'].head()"
   ]
  },
  {
   "attachments": {},
   "cell_type": "markdown",
   "metadata": {},
   "source": [
    "Новый столбец ```df_no_na[\"run_time_m\"]``` содержит продолжительность фильма (в минутах)"
   ]
  },
  {
   "attachments": {},
   "cell_type": "markdown",
   "metadata": {},
   "source": [
    "Часть значений в колонках 'budget' и 'box_office' распознаются неправильно. Часть значений содержит строку Not Available"
   ]
  },
  {
   "cell_type": "code",
   "execution_count": null,
   "metadata": {},
   "outputs": [],
   "source": [
    "box_office_not_avail = pd.DataFrame()"
   ]
  },
  {
   "cell_type": "code",
   "execution_count": null,
   "metadata": {},
   "outputs": [],
   "source": [
    "box_office_not_avail['flag'] = imdb_top_250_df['box_office']=='Not Available'\n",
    "box_office_not_avail['name'] = imdb_top_250_df['name']\n",
    "new_df = box_office_not_avail.groupby(by='flag').count()\n",
    "new_df"
   ]
  },
  {
   "cell_type": "code",
   "execution_count": null,
   "metadata": {},
   "outputs": [],
   "source": []
  },
  {
   "cell_type": "code",
   "execution_count": null,
   "metadata": {},
   "outputs": [],
   "source": [
    "sns.barplot(data=new_df, x='flag')"
   ]
  },
  {
   "cell_type": "code",
   "execution_count": null,
   "metadata": {},
   "outputs": [],
   "source": []
  },
  {
   "cell_type": "code",
   "execution_count": null,
   "metadata": {},
   "outputs": [],
   "source": []
  },
  {
   "cell_type": "code",
   "execution_count": null,
   "metadata": {},
   "outputs": [],
   "source": [
    "na_field_count = 0\n",
    "\n",
    "for line in df_no_na.values:\n",
    "    budget_navail = line[8] == 'Not Available'\n",
    "    box_office_navail = (line[9] == 'Not Available')\n",
    "    if budget_navail and box_office_navail:\n",
    "        na_field_count +=1\n",
    "        print(f'Для фильма \"{line[1]} не известны бюджет и кассовые сборы\"')\n",
    "\n",
    "print(na_field_count)\n"
   ]
  },
  {
   "cell_type": "code",
   "execution_count": null,
   "metadata": {},
   "outputs": [],
   "source": [
    "df_no_na.dtypes"
   ]
  },
  {
   "cell_type": "code",
   "execution_count": null,
   "metadata": {},
   "outputs": [],
   "source": [
    "df_no_na[df_no_na['box_office']=='Not Available'].index"
   ]
  },
  {
   "attachments": {},
   "cell_type": "markdown",
   "metadata": {},
   "source": [
    "Удаление всех строк без известных сборов"
   ]
  },
  {
   "cell_type": "code",
   "execution_count": null,
   "metadata": {},
   "outputs": [],
   "source": [
    "df_no_na = df_no_na.drop(index=df_no_na[df_no_na['box_office']=='Not Available'].index).count()"
   ]
  },
  {
   "attachments": {},
   "cell_type": "markdown",
   "metadata": {},
   "source": [
    "Удаление всех строк без известного бюджета"
   ]
  },
  {
   "cell_type": "code",
   "execution_count": null,
   "metadata": {},
   "outputs": [],
   "source": [
    "df_no_na = df_no_na.drop(index=df_no_na[df_no_na['budget']=='Not Available'].index).count()"
   ]
  },
  {
   "cell_type": "code",
   "execution_count": null,
   "metadata": {},
   "outputs": [],
   "source": [
    "df_no_na['box_office_usd'] = df_no_na['box_office'].astype(float)"
   ]
  },
  {
   "cell_type": "code",
   "execution_count": null,
   "metadata": {},
   "outputs": [],
   "source": [
    "for val in df_no_na:\n",
    "    print(val)"
   ]
  },
  {
   "cell_type": "code",
   "execution_count": null,
   "metadata": {},
   "outputs": [],
   "source": [
    "df_no_na.dtypes"
   ]
  },
  {
   "cell_type": "code",
   "execution_count": null,
   "metadata": {},
   "outputs": [],
   "source": [
    "df.plot.scatter(x='new_runtime-', y=\"rating\")"
   ]
  },
  {
   "cell_type": "code",
   "execution_count": null,
   "metadata": {},
   "outputs": [],
   "source": [
    "sns.heatmap(df.corr(), annot=True, fmt='.2f')"
   ]
  },
  {
   "cell_type": "code",
   "execution_count": null,
   "metadata": {},
   "outputs": [],
   "source": [
    "sns.boxplot( x=df[\"rating\"], y=df[\"certificate\"])"
   ]
  },
  {
   "cell_type": "code",
   "execution_count": null,
   "metadata": {},
   "outputs": [],
   "source": [
    "sns.distplot( a=df[\"rating\"], hist=True, kde=False, rug=False )"
   ]
  },
  {
   "cell_type": "code",
   "execution_count": null,
   "metadata": {},
   "outputs": [],
   "source": [
    "df['genre']"
   ]
  },
  {
   "cell_type": "code",
   "execution_count": null,
   "metadata": {},
   "outputs": [],
   "source": [
    "df.plot.scatter(x='year',\n",
    "                      y='rating',\n",
    "                       c='DarkBlue')"
   ]
  },
  {
   "cell_type": "code",
   "execution_count": null,
   "metadata": {},
   "outputs": [],
   "source": [
    "sns.violinplot(x=df[\"rating\"], y=df[\"year\"])"
   ]
  },
  {
   "cell_type": "code",
   "execution_count": null,
   "metadata": {},
   "outputs": [],
   "source": []
  }
 ],
 "metadata": {
  "kernelspec": {
   "display_name": "Python 3",
   "language": "python",
   "name": "python3"
  },
  "language_info": {
   "codemirror_mode": {
    "name": "ipython",
    "version": 3
   },
   "file_extension": ".py",
   "mimetype": "text/x-python",
   "name": "python",
   "nbconvert_exporter": "python",
   "pygments_lexer": "ipython3",
   "version": "3.10.9"
  },
  "orig_nbformat": 4,
  "vscode": {
   "interpreter": {
    "hash": "aee8b7b246df8f9039afb4144a1f6fd8d2ca17a180786b69acc140d282b71a49"
   }
  }
 },
 "nbformat": 4,
 "nbformat_minor": 2
}
